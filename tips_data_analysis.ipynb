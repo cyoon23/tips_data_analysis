{
 "cells": [
  {
   "cell_type": "code",
   "execution_count": 102,
   "id": "c9248658",
   "metadata": {},
   "outputs": [],
   "source": [
    "import seaborn as sns\n",
    "import pandas as pd\n",
    "import numpy as np\n",
    "import statistics\n",
    "import scipy.stats as stats\n",
    "from sklearn.linear_model import LogisticRegression\n",
    "from sklearn.model_selection import train_test_split\n",
    "import matplotlib.pyplot as plt\n",
    "import sklearn.metrics as metrics"
   ]
  },
  {
   "cell_type": "code",
   "execution_count": 2,
   "id": "31b4db37",
   "metadata": {},
   "outputs": [],
   "source": [
    "sns.set_theme()"
   ]
  },
  {
   "cell_type": "code",
   "execution_count": 5,
   "id": "5739b773",
   "metadata": {},
   "outputs": [],
   "source": [
    "df = pd.read_csv(\"/Users/christineyoon/Library/Mobile Documents/com~apple~CloudDocs/Albert Einstein/ir project/TIPS project/Thrombosed_Data_1.csv\")"
   ]
  },
  {
   "cell_type": "code",
   "execution_count": 6,
   "id": "8da6a23f",
   "metadata": {},
   "outputs": [
    {
     "data": {
      "text/html": [
       "<div>\n",
       "<style scoped>\n",
       "    .dataframe tbody tr th:only-of-type {\n",
       "        vertical-align: middle;\n",
       "    }\n",
       "\n",
       "    .dataframe tbody tr th {\n",
       "        vertical-align: top;\n",
       "    }\n",
       "\n",
       "    .dataframe thead th {\n",
       "        text-align: right;\n",
       "    }\n",
       "</style>\n",
       "<table border=\"1\" class=\"dataframe\">\n",
       "  <thead>\n",
       "    <tr style=\"text-align: right;\">\n",
       "      <th></th>\n",
       "      <th>ID</th>\n",
       "      <th>a</th>\n",
       "      <th>b</th>\n",
       "      <th>c</th>\n",
       "      <th>First Derivative</th>\n",
       "      <th>Second Derivative</th>\n",
       "    </tr>\n",
       "  </thead>\n",
       "  <tbody>\n",
       "    <tr>\n",
       "      <th>0</th>\n",
       "      <td>263432</td>\n",
       "      <td>0.145833</td>\n",
       "      <td>-132.125000</td>\n",
       "      <td>30110.312500</td>\n",
       "      <td>-3.500000</td>\n",
       "      <td>0.291667</td>\n",
       "    </tr>\n",
       "    <tr>\n",
       "      <th>1</th>\n",
       "      <td>1021223</td>\n",
       "      <td>0.004959</td>\n",
       "      <td>-5.742149</td>\n",
       "      <td>1955.352066</td>\n",
       "      <td>-0.545455</td>\n",
       "      <td>0.009917</td>\n",
       "    </tr>\n",
       "    <tr>\n",
       "      <th>2</th>\n",
       "      <td>1054317</td>\n",
       "      <td>0.000563</td>\n",
       "      <td>-0.565209</td>\n",
       "      <td>269.867517</td>\n",
       "      <td>-0.082192</td>\n",
       "      <td>0.001126</td>\n",
       "    </tr>\n",
       "    <tr>\n",
       "      <th>3</th>\n",
       "      <td>1459348</td>\n",
       "      <td>0.053719</td>\n",
       "      <td>-51.785124</td>\n",
       "      <td>12880.214876</td>\n",
       "      <td>2.363636</td>\n",
       "      <td>0.107438</td>\n",
       "    </tr>\n",
       "    <tr>\n",
       "      <th>4</th>\n",
       "      <td>2311183</td>\n",
       "      <td>0.204545</td>\n",
       "      <td>-204.136364</td>\n",
       "      <td>51219.022727</td>\n",
       "      <td>9.000000</td>\n",
       "      <td>0.409091</td>\n",
       "    </tr>\n",
       "    <tr>\n",
       "      <th>5</th>\n",
       "      <td>2463830</td>\n",
       "      <td>0.029442</td>\n",
       "      <td>-14.485537</td>\n",
       "      <td>2050.721074</td>\n",
       "      <td>2.590909</td>\n",
       "      <td>0.058884</td>\n",
       "    </tr>\n",
       "    <tr>\n",
       "      <th>6</th>\n",
       "      <td>2878370</td>\n",
       "      <td>0.006747</td>\n",
       "      <td>-8.352167</td>\n",
       "      <td>2881.995783</td>\n",
       "      <td>-1.038961</td>\n",
       "      <td>0.013493</td>\n",
       "    </tr>\n",
       "    <tr>\n",
       "      <th>7</th>\n",
       "      <td>3162348</td>\n",
       "      <td>0.029586</td>\n",
       "      <td>-23.668639</td>\n",
       "      <td>4960.727811</td>\n",
       "      <td>2.307692</td>\n",
       "      <td>0.059172</td>\n",
       "    </tr>\n",
       "    <tr>\n",
       "      <th>8</th>\n",
       "      <td>3726552</td>\n",
       "      <td>0.003205</td>\n",
       "      <td>-3.339180</td>\n",
       "      <td>1127.856468</td>\n",
       "      <td>0.493506</td>\n",
       "      <td>0.006409</td>\n",
       "    </tr>\n",
       "    <tr>\n",
       "      <th>9</th>\n",
       "      <td>3910060</td>\n",
       "      <td>-0.001724</td>\n",
       "      <td>1.482333</td>\n",
       "      <td>-178.701523</td>\n",
       "      <td>0.203390</td>\n",
       "      <td>-0.003447</td>\n",
       "    </tr>\n",
       "    <tr>\n",
       "      <th>10</th>\n",
       "      <td>5754472</td>\n",
       "      <td>0.009496</td>\n",
       "      <td>-7.900657</td>\n",
       "      <td>1967.336742</td>\n",
       "      <td>1.405405</td>\n",
       "      <td>0.018992</td>\n",
       "    </tr>\n",
       "    <tr>\n",
       "      <th>11</th>\n",
       "      <td>5766973</td>\n",
       "      <td>0.118056</td>\n",
       "      <td>-103.888889</td>\n",
       "      <td>23285.555556</td>\n",
       "      <td>5.666667</td>\n",
       "      <td>0.236111</td>\n",
       "    </tr>\n",
       "    <tr>\n",
       "      <th>12</th>\n",
       "      <td>6137633</td>\n",
       "      <td>0.019251</td>\n",
       "      <td>-15.785640</td>\n",
       "      <td>3719.056191</td>\n",
       "      <td>2.387097</td>\n",
       "      <td>0.038502</td>\n",
       "    </tr>\n",
       "  </tbody>\n",
       "</table>\n",
       "</div>"
      ],
      "text/plain": [
       "         ID         a           b             c  First Derivative  \\\n",
       "0    263432  0.145833 -132.125000  30110.312500         -3.500000   \n",
       "1   1021223  0.004959   -5.742149   1955.352066         -0.545455   \n",
       "2   1054317  0.000563   -0.565209    269.867517         -0.082192   \n",
       "3   1459348  0.053719  -51.785124  12880.214876          2.363636   \n",
       "4   2311183  0.204545 -204.136364  51219.022727          9.000000   \n",
       "5   2463830  0.029442  -14.485537   2050.721074          2.590909   \n",
       "6   2878370  0.006747   -8.352167   2881.995783         -1.038961   \n",
       "7   3162348  0.029586  -23.668639   4960.727811          2.307692   \n",
       "8   3726552  0.003205   -3.339180   1127.856468          0.493506   \n",
       "9   3910060 -0.001724    1.482333   -178.701523          0.203390   \n",
       "10  5754472  0.009496   -7.900657   1967.336742          1.405405   \n",
       "11  5766973  0.118056 -103.888889  23285.555556          5.666667   \n",
       "12  6137633  0.019251  -15.785640   3719.056191          2.387097   \n",
       "\n",
       "    Second Derivative  \n",
       "0            0.291667  \n",
       "1            0.009917  \n",
       "2            0.001126  \n",
       "3            0.107438  \n",
       "4            0.409091  \n",
       "5            0.058884  \n",
       "6            0.013493  \n",
       "7            0.059172  \n",
       "8            0.006409  \n",
       "9           -0.003447  \n",
       "10           0.018992  \n",
       "11           0.236111  \n",
       "12           0.038502  "
      ]
     },
     "execution_count": 6,
     "metadata": {},
     "output_type": "execute_result"
    }
   ],
   "source": [
    "df"
   ]
  },
  {
   "cell_type": "code",
   "execution_count": 7,
   "id": "aabd04a8",
   "metadata": {},
   "outputs": [],
   "source": [
    "thrombo_data = df['Second Derivative']"
   ]
  },
  {
   "cell_type": "code",
   "execution_count": 8,
   "id": "710400c6",
   "metadata": {},
   "outputs": [],
   "source": [
    "df1 = pd.read_csv(\"/Users/christineyoon/Library/Mobile Documents/com~apple~CloudDocs/Albert Einstein/ir project/TIPS project/allData (9).csv\")"
   ]
  },
  {
   "cell_type": "code",
   "execution_count": 9,
   "id": "0b4ff7d7",
   "metadata": {},
   "outputs": [
    {
     "data": {
      "text/html": [
       "<div>\n",
       "<style scoped>\n",
       "    .dataframe tbody tr th:only-of-type {\n",
       "        vertical-align: middle;\n",
       "    }\n",
       "\n",
       "    .dataframe tbody tr th {\n",
       "        vertical-align: top;\n",
       "    }\n",
       "\n",
       "    .dataframe thead th {\n",
       "        text-align: right;\n",
       "    }\n",
       "</style>\n",
       "<table border=\"1\" class=\"dataframe\">\n",
       "  <thead>\n",
       "    <tr style=\"text-align: right;\">\n",
       "      <th></th>\n",
       "      <th>ID</th>\n",
       "      <th>a</th>\n",
       "      <th>b</th>\n",
       "      <th>c</th>\n",
       "      <th>First Derivative</th>\n",
       "      <th>Second Derivative</th>\n",
       "    </tr>\n",
       "  </thead>\n",
       "  <tbody>\n",
       "    <tr>\n",
       "      <th>0</th>\n",
       "      <td>263432.0</td>\n",
       "      <td>0.000905</td>\n",
       "      <td>-0.947035</td>\n",
       "      <td>785.649615</td>\n",
       "      <td>-0.340426</td>\n",
       "      <td>0.001811</td>\n",
       "    </tr>\n",
       "    <tr>\n",
       "      <th>1</th>\n",
       "      <td>312371.0</td>\n",
       "      <td>0.000000</td>\n",
       "      <td>0.000000</td>\n",
       "      <td>458.000000</td>\n",
       "      <td>0.000000</td>\n",
       "      <td>0.000000</td>\n",
       "    </tr>\n",
       "    <tr>\n",
       "      <th>2</th>\n",
       "      <td>418302.0</td>\n",
       "      <td>0.001624</td>\n",
       "      <td>-1.520232</td>\n",
       "      <td>764.734200</td>\n",
       "      <td>-0.386555</td>\n",
       "      <td>0.003248</td>\n",
       "    </tr>\n",
       "    <tr>\n",
       "      <th>3</th>\n",
       "      <td>429589.0</td>\n",
       "      <td>0.001333</td>\n",
       "      <td>-1.141333</td>\n",
       "      <td>1042.245333</td>\n",
       "      <td>-0.400000</td>\n",
       "      <td>0.002667</td>\n",
       "    </tr>\n",
       "    <tr>\n",
       "      <th>4</th>\n",
       "      <td>480412.0</td>\n",
       "      <td>0.006638</td>\n",
       "      <td>-7.434710</td>\n",
       "      <td>2357.718927</td>\n",
       "      <td>-1.420561</td>\n",
       "      <td>0.013276</td>\n",
       "    </tr>\n",
       "    <tr>\n",
       "      <th>...</th>\n",
       "      <td>...</td>\n",
       "      <td>...</td>\n",
       "      <td>...</td>\n",
       "      <td>...</td>\n",
       "      <td>...</td>\n",
       "      <td>...</td>\n",
       "    </tr>\n",
       "    <tr>\n",
       "      <th>220</th>\n",
       "      <td>9606156.0</td>\n",
       "      <td>0.007353</td>\n",
       "      <td>-7.926471</td>\n",
       "      <td>2582.183824</td>\n",
       "      <td>-1.000000</td>\n",
       "      <td>0.014706</td>\n",
       "    </tr>\n",
       "    <tr>\n",
       "      <th>221</th>\n",
       "      <td>9616291.0</td>\n",
       "      <td>0.026501</td>\n",
       "      <td>-23.479719</td>\n",
       "      <td>5434.757707</td>\n",
       "      <td>-2.279070</td>\n",
       "      <td>0.053002</td>\n",
       "    </tr>\n",
       "    <tr>\n",
       "      <th>222</th>\n",
       "      <td>9651961.0</td>\n",
       "      <td>0.020399</td>\n",
       "      <td>-13.177951</td>\n",
       "      <td>2367.239149</td>\n",
       "      <td>-1.958333</td>\n",
       "      <td>0.040799</td>\n",
       "    </tr>\n",
       "    <tr>\n",
       "      <th>223</th>\n",
       "      <td>9686385.0</td>\n",
       "      <td>0.000266</td>\n",
       "      <td>-0.287708</td>\n",
       "      <td>567.681283</td>\n",
       "      <td>-0.072993</td>\n",
       "      <td>0.000533</td>\n",
       "    </tr>\n",
       "    <tr>\n",
       "      <th>224</th>\n",
       "      <td>25039750.0</td>\n",
       "      <td>0.006097</td>\n",
       "      <td>-4.816374</td>\n",
       "      <td>1164.233851</td>\n",
       "      <td>-1.012048</td>\n",
       "      <td>0.012193</td>\n",
       "    </tr>\n",
       "  </tbody>\n",
       "</table>\n",
       "<p>225 rows × 6 columns</p>\n",
       "</div>"
      ],
      "text/plain": [
       "             ID         a          b            c  First Derivative  \\\n",
       "0      263432.0  0.000905  -0.947035   785.649615         -0.340426   \n",
       "1      312371.0  0.000000   0.000000   458.000000          0.000000   \n",
       "2      418302.0  0.001624  -1.520232   764.734200         -0.386555   \n",
       "3      429589.0  0.001333  -1.141333  1042.245333         -0.400000   \n",
       "4      480412.0  0.006638  -7.434710  2357.718927         -1.420561   \n",
       "..          ...       ...        ...          ...               ...   \n",
       "220   9606156.0  0.007353  -7.926471  2582.183824         -1.000000   \n",
       "221   9616291.0  0.026501 -23.479719  5434.757707         -2.279070   \n",
       "222   9651961.0  0.020399 -13.177951  2367.239149         -1.958333   \n",
       "223   9686385.0  0.000266  -0.287708   567.681283         -0.072993   \n",
       "224  25039750.0  0.006097  -4.816374  1164.233851         -1.012048   \n",
       "\n",
       "     Second Derivative  \n",
       "0             0.001811  \n",
       "1             0.000000  \n",
       "2             0.003248  \n",
       "3             0.002667  \n",
       "4             0.013276  \n",
       "..                 ...  \n",
       "220           0.014706  \n",
       "221           0.053002  \n",
       "222           0.040799  \n",
       "223           0.000533  \n",
       "224           0.012193  \n",
       "\n",
       "[225 rows x 6 columns]"
      ]
     },
     "execution_count": 9,
     "metadata": {},
     "output_type": "execute_result"
    }
   ],
   "source": [
    "df1"
   ]
  },
  {
   "cell_type": "code",
   "execution_count": 10,
   "id": "40792d55",
   "metadata": {},
   "outputs": [],
   "source": [
    "tips_data = df1['Second Derivative']"
   ]
  },
  {
   "cell_type": "code",
   "execution_count": 11,
   "id": "f5d24463",
   "metadata": {},
   "outputs": [],
   "source": [
    "new_df = pd.DataFrame({'thrombosed_tips': thrombo_data, 'unthrombosed_tips': tips_data})"
   ]
  },
  {
   "cell_type": "code",
   "execution_count": 12,
   "id": "3755964d",
   "metadata": {},
   "outputs": [
    {
     "data": {
      "text/html": [
       "<div>\n",
       "<style scoped>\n",
       "    .dataframe tbody tr th:only-of-type {\n",
       "        vertical-align: middle;\n",
       "    }\n",
       "\n",
       "    .dataframe tbody tr th {\n",
       "        vertical-align: top;\n",
       "    }\n",
       "\n",
       "    .dataframe thead th {\n",
       "        text-align: right;\n",
       "    }\n",
       "</style>\n",
       "<table border=\"1\" class=\"dataframe\">\n",
       "  <thead>\n",
       "    <tr style=\"text-align: right;\">\n",
       "      <th></th>\n",
       "      <th>thrombosed_tips</th>\n",
       "      <th>unthrombosed_tips</th>\n",
       "    </tr>\n",
       "  </thead>\n",
       "  <tbody>\n",
       "    <tr>\n",
       "      <th>0</th>\n",
       "      <td>0.291667</td>\n",
       "      <td>0.001811</td>\n",
       "    </tr>\n",
       "    <tr>\n",
       "      <th>1</th>\n",
       "      <td>0.009917</td>\n",
       "      <td>0.000000</td>\n",
       "    </tr>\n",
       "    <tr>\n",
       "      <th>2</th>\n",
       "      <td>0.001126</td>\n",
       "      <td>0.003248</td>\n",
       "    </tr>\n",
       "    <tr>\n",
       "      <th>3</th>\n",
       "      <td>0.107438</td>\n",
       "      <td>0.002667</td>\n",
       "    </tr>\n",
       "    <tr>\n",
       "      <th>4</th>\n",
       "      <td>0.409091</td>\n",
       "      <td>0.013276</td>\n",
       "    </tr>\n",
       "    <tr>\n",
       "      <th>...</th>\n",
       "      <td>...</td>\n",
       "      <td>...</td>\n",
       "    </tr>\n",
       "    <tr>\n",
       "      <th>220</th>\n",
       "      <td>NaN</td>\n",
       "      <td>0.014706</td>\n",
       "    </tr>\n",
       "    <tr>\n",
       "      <th>221</th>\n",
       "      <td>NaN</td>\n",
       "      <td>0.053002</td>\n",
       "    </tr>\n",
       "    <tr>\n",
       "      <th>222</th>\n",
       "      <td>NaN</td>\n",
       "      <td>0.040799</td>\n",
       "    </tr>\n",
       "    <tr>\n",
       "      <th>223</th>\n",
       "      <td>NaN</td>\n",
       "      <td>0.000533</td>\n",
       "    </tr>\n",
       "    <tr>\n",
       "      <th>224</th>\n",
       "      <td>NaN</td>\n",
       "      <td>0.012193</td>\n",
       "    </tr>\n",
       "  </tbody>\n",
       "</table>\n",
       "<p>225 rows × 2 columns</p>\n",
       "</div>"
      ],
      "text/plain": [
       "     thrombosed_tips  unthrombosed_tips\n",
       "0           0.291667           0.001811\n",
       "1           0.009917           0.000000\n",
       "2           0.001126           0.003248\n",
       "3           0.107438           0.002667\n",
       "4           0.409091           0.013276\n",
       "..               ...                ...\n",
       "220              NaN           0.014706\n",
       "221              NaN           0.053002\n",
       "222              NaN           0.040799\n",
       "223              NaN           0.000533\n",
       "224              NaN           0.012193\n",
       "\n",
       "[225 rows x 2 columns]"
      ]
     },
     "execution_count": 12,
     "metadata": {},
     "output_type": "execute_result"
    }
   ],
   "source": [
    "new_df"
   ]
  },
  {
   "cell_type": "code",
   "execution_count": 29,
   "id": "82584eec",
   "metadata": {},
   "outputs": [
    {
     "name": "stdout",
     "output_type": "stream",
     "text": [
      "thrombosed tips data mean: 0.09595032961727433\n",
      "unthrombosed tips data mean: 0.022632829154989004\n",
      "thrombosed tips data median: 0.0385015608740894\n",
      "unthrombosed tips data median: 0.0076628352490421\n",
      "thrombosed tips data mode: 0.2916666666666667\n",
      "unthrombosed tips data mode: 0.0\n"
     ]
    }
   ],
   "source": [
    "print('thrombosed tips data mean: {}'.format(statistics.mean(thrombo_data)))\n",
    "print('unthrombosed tips data mean: {}'.format(statistics.mean(tips_data)))\n",
    "print('thrombosed tips data median: {}'.format(statistics.median(thrombo_data)))\n",
    "print('unthrombosed tips data median: {}'.format(statistics.median(tips_data)))\n",
    "print('thrombosed tips data mode: {}'.format(statistics.mode(thrombo_data)))\n",
    "print('unthrombosed tips data mode: {}'.format(statistics.mode(tips_data)))"
   ]
  },
  {
   "cell_type": "code",
   "execution_count": 38,
   "id": "be96cbf0",
   "metadata": {},
   "outputs": [
    {
     "data": {
      "text/plain": [
       "<AxesSubplot:>"
      ]
     },
     "execution_count": 38,
     "metadata": {},
     "output_type": "execute_result"
    },
    {
     "data": {
      "image/png": "[encoded data removed]",
      "text/plain": [
       "<Figure size 432x288 with 1 Axes>"
      ]
     },
     "metadata": {},
     "output_type": "display_data"
    }
   ],
   "source": [
    "sns.boxplot(data=new_df, showfliers=False)"
   ]
  },
  {
   "cell_type": "code",
   "execution_count": 41,
   "id": "f72c165d",
   "metadata": {},
   "outputs": [
    {
     "data": {
      "text/plain": [
       "<AxesSubplot:ylabel='Count'>"
      ]
     },
     "execution_count": 41,
     "metadata": {},
     "output_type": "execute_result"
    },
    {
     "data": {
      "image/png": "[encoded data removed]",
      "text/plain": [
       "<Figure size 432x288 with 1 Axes>"
      ]
     },
     "metadata": {},
     "output_type": "display_data"
    }
   ],
   "source": [
    "sns.histplot(data=new_df, kde=False)"
   ]
  },
  {
   "cell_type": "code",
   "execution_count": 44,
   "id": "b2e0830f",
   "metadata": {},
   "outputs": [
    {
     "data": {
      "text/plain": [
       "Ttest_indResult(statistic=2.651041950677058, pvalue=0.00856772136134329)"
      ]
     },
     "execution_count": 44,
     "metadata": {},
     "output_type": "execute_result"
    }
   ],
   "source": [
    "stats.ttest_ind(thrombo_data, tips_data, equal_var=True)"
   ]
  },
  {
   "cell_type": "code",
   "execution_count": 45,
   "id": "013921c0",
   "metadata": {},
   "outputs": [
    {
     "data": {
      "text/plain": [
       "MannwhitneyuResult(statistic=2149.5, pvalue=0.004451250989077574)"
      ]
     },
     "execution_count": 45,
     "metadata": {},
     "output_type": "execute_result"
    }
   ],
   "source": [
    "stats.mannwhitneyu(thrombo_data, tips_data)"
   ]
  },
  {
   "cell_type": "code",
   "execution_count": 47,
   "id": "ef51e814",
   "metadata": {},
   "outputs": [
    {
     "data": {
      "text/html": [
       "<div>\n",
       "<style scoped>\n",
       "    .dataframe tbody tr th:only-of-type {\n",
       "        vertical-align: middle;\n",
       "    }\n",
       "\n",
       "    .dataframe tbody tr th {\n",
       "        vertical-align: top;\n",
       "    }\n",
       "\n",
       "    .dataframe thead th {\n",
       "        text-align: right;\n",
       "    }\n",
       "</style>\n",
       "<table border=\"1\" class=\"dataframe\">\n",
       "  <thead>\n",
       "    <tr style=\"text-align: right;\">\n",
       "      <th></th>\n",
       "      <th>thrombosed_tips</th>\n",
       "      <th>unthrombosed_tips</th>\n",
       "    </tr>\n",
       "  </thead>\n",
       "  <tbody>\n",
       "    <tr>\n",
       "      <th>0</th>\n",
       "      <td>0.291667</td>\n",
       "      <td>0.001811</td>\n",
       "    </tr>\n",
       "    <tr>\n",
       "      <th>1</th>\n",
       "      <td>0.009917</td>\n",
       "      <td>0.000000</td>\n",
       "    </tr>\n",
       "    <tr>\n",
       "      <th>2</th>\n",
       "      <td>0.001126</td>\n",
       "      <td>0.003248</td>\n",
       "    </tr>\n",
       "    <tr>\n",
       "      <th>3</th>\n",
       "      <td>0.107438</td>\n",
       "      <td>0.002667</td>\n",
       "    </tr>\n",
       "    <tr>\n",
       "      <th>4</th>\n",
       "      <td>0.409091</td>\n",
       "      <td>0.013276</td>\n",
       "    </tr>\n",
       "    <tr>\n",
       "      <th>...</th>\n",
       "      <td>...</td>\n",
       "      <td>...</td>\n",
       "    </tr>\n",
       "    <tr>\n",
       "      <th>220</th>\n",
       "      <td>NaN</td>\n",
       "      <td>0.014706</td>\n",
       "    </tr>\n",
       "    <tr>\n",
       "      <th>221</th>\n",
       "      <td>NaN</td>\n",
       "      <td>0.053002</td>\n",
       "    </tr>\n",
       "    <tr>\n",
       "      <th>222</th>\n",
       "      <td>NaN</td>\n",
       "      <td>0.040799</td>\n",
       "    </tr>\n",
       "    <tr>\n",
       "      <th>223</th>\n",
       "      <td>NaN</td>\n",
       "      <td>0.000533</td>\n",
       "    </tr>\n",
       "    <tr>\n",
       "      <th>224</th>\n",
       "      <td>NaN</td>\n",
       "      <td>0.012193</td>\n",
       "    </tr>\n",
       "  </tbody>\n",
       "</table>\n",
       "<p>225 rows × 2 columns</p>\n",
       "</div>"
      ],
      "text/plain": [
       "     thrombosed_tips  unthrombosed_tips\n",
       "0           0.291667           0.001811\n",
       "1           0.009917           0.000000\n",
       "2           0.001126           0.003248\n",
       "3           0.107438           0.002667\n",
       "4           0.409091           0.013276\n",
       "..               ...                ...\n",
       "220              NaN           0.014706\n",
       "221              NaN           0.053002\n",
       "222              NaN           0.040799\n",
       "223              NaN           0.000533\n",
       "224              NaN           0.012193\n",
       "\n",
       "[225 rows x 2 columns]"
      ]
     },
     "execution_count": 47,
     "metadata": {},
     "output_type": "execute_result"
    }
   ],
   "source": [
    "new_df"
   ]
  },
  {
   "cell_type": "code",
   "execution_count": 61,
   "id": "e5af9f11",
   "metadata": {
    "scrolled": true
   },
   "outputs": [],
   "source": [
    "df2 = pd.DataFrame({\n",
    "    'tips_data': list(thrombo_data) + (list(tips_data)),\n",
    "    'ground_truth': ([1]*len(thrombo_data)) + ([0]*len(tips_data))\n",
    "})"
   ]
  },
  {
   "cell_type": "code",
   "execution_count": 62,
   "id": "657bf8e8",
   "metadata": {},
   "outputs": [
    {
     "data": {
      "text/html": [
       "<div>\n",
       "<style scoped>\n",
       "    .dataframe tbody tr th:only-of-type {\n",
       "        vertical-align: middle;\n",
       "    }\n",
       "\n",
       "    .dataframe tbody tr th {\n",
       "        vertical-align: top;\n",
       "    }\n",
       "\n",
       "    .dataframe thead th {\n",
       "        text-align: right;\n",
       "    }\n",
       "</style>\n",
       "<table border=\"1\" class=\"dataframe\">\n",
       "  <thead>\n",
       "    <tr style=\"text-align: right;\">\n",
       "      <th></th>\n",
       "      <th>tips_data</th>\n",
       "      <th>ground_truth</th>\n",
       "    </tr>\n",
       "  </thead>\n",
       "  <tbody>\n",
       "    <tr>\n",
       "      <th>0</th>\n",
       "      <td>0.291667</td>\n",
       "      <td>1</td>\n",
       "    </tr>\n",
       "    <tr>\n",
       "      <th>1</th>\n",
       "      <td>0.009917</td>\n",
       "      <td>1</td>\n",
       "    </tr>\n",
       "    <tr>\n",
       "      <th>2</th>\n",
       "      <td>0.001126</td>\n",
       "      <td>1</td>\n",
       "    </tr>\n",
       "    <tr>\n",
       "      <th>3</th>\n",
       "      <td>0.107438</td>\n",
       "      <td>1</td>\n",
       "    </tr>\n",
       "    <tr>\n",
       "      <th>4</th>\n",
       "      <td>0.409091</td>\n",
       "      <td>1</td>\n",
       "    </tr>\n",
       "    <tr>\n",
       "      <th>...</th>\n",
       "      <td>...</td>\n",
       "      <td>...</td>\n",
       "    </tr>\n",
       "    <tr>\n",
       "      <th>233</th>\n",
       "      <td>0.014706</td>\n",
       "      <td>0</td>\n",
       "    </tr>\n",
       "    <tr>\n",
       "      <th>234</th>\n",
       "      <td>0.053002</td>\n",
       "      <td>0</td>\n",
       "    </tr>\n",
       "    <tr>\n",
       "      <th>235</th>\n",
       "      <td>0.040799</td>\n",
       "      <td>0</td>\n",
       "    </tr>\n",
       "    <tr>\n",
       "      <th>236</th>\n",
       "      <td>0.000533</td>\n",
       "      <td>0</td>\n",
       "    </tr>\n",
       "    <tr>\n",
       "      <th>237</th>\n",
       "      <td>0.012193</td>\n",
       "      <td>0</td>\n",
       "    </tr>\n",
       "  </tbody>\n",
       "</table>\n",
       "<p>238 rows × 2 columns</p>\n",
       "</div>"
      ],
      "text/plain": [
       "     tips_data  ground_truth\n",
       "0     0.291667             1\n",
       "1     0.009917             1\n",
       "2     0.001126             1\n",
       "3     0.107438             1\n",
       "4     0.409091             1\n",
       "..         ...           ...\n",
       "233   0.014706             0\n",
       "234   0.053002             0\n",
       "235   0.040799             0\n",
       "236   0.000533             0\n",
       "237   0.012193             0\n",
       "\n",
       "[238 rows x 2 columns]"
      ]
     },
     "execution_count": 62,
     "metadata": {},
     "output_type": "execute_result"
    }
   ],
   "source": [
    "df2"
   ]
  },
  {
   "cell_type": "code",
   "execution_count": 75,
   "id": "81143dd5",
   "metadata": {},
   "outputs": [],
   "source": [
    "X_train, X_test, y_train, y_test = train_test_split(df2['tips_data'], df2['ground_truth'], test_size=0.25)"
   ]
  },
  {
   "cell_type": "code",
   "execution_count": 81,
   "id": "e8c493b9",
   "metadata": {},
   "outputs": [
    {
     "data": {
      "text/plain": [
       "125   -0.001315\n",
       "168    0.002367\n",
       "49     0.012475\n",
       "187   -0.002520\n",
       "203    0.005142\n",
       "         ...   \n",
       "175    0.004800\n",
       "21    -0.015594\n",
       "213   -0.001515\n",
       "178    0.005487\n",
       "56     0.000937\n",
       "Name: tips_data, Length: 178, dtype: float64"
      ]
     },
     "execution_count": 81,
     "metadata": {},
     "output_type": "execute_result"
    }
   ],
   "source": [
    "X_train"
   ]
  },
  {
   "cell_type": "code",
   "execution_count": 90,
   "id": "4a46c96e",
   "metadata": {},
   "outputs": [
    {
     "name": "stdout",
     "output_type": "stream",
     "text": [
      "Accuracy: 0.9\n"
     ]
    }
   ],
   "source": [
    "# Create the model\n",
    "model = LogisticRegression()\n",
    "\n",
    "# Train the model\n",
    "model.fit(np.array(X_train).reshape(-1,1), y_train)\n",
    "\n",
    "# Evaluate the model\n",
    "score = model.score(np.array(X_test).reshape(-1,1), y_test)\n",
    "print('Accuracy:', score)\n",
    "\n",
    "# Make predictions\n",
    "predictions = model.predict(np.array(X_test).reshape(-1,1))"
   ]
  },
  {
   "cell_type": "code",
   "execution_count": 104,
   "id": "9199c208",
   "metadata": {},
   "outputs": [
    {
     "data": {
      "image/png": "[encoded data removed]",
      "text/plain": [
       "<Figure size 432x288 with 1 Axes>"
      ]
     },
     "metadata": {},
     "output_type": "display_data"
    }
   ],
   "source": [
    "y_pred = model.predict_proba(np.array(df2['tips_data']).reshape(-1,1))[:, 1]\n",
    "\n",
    "# Calculate the ROC curve\n",
    "fpr, tpr, thresholds = metrics.roc_curve(df2['ground_truth'], y_pred)\n",
    "\n",
    "# Plot the ROC curve\n",
    "plt.plot(fpr, tpr)\n",
    "plt.xlabel('False positive rate')\n",
    "plt.ylabel('True positive rate')\n",
    "plt.title('ROC curve for logistic regression')\n",
    "plt.show()"
   ]
  },
  {
   "cell_type": "code",
   "execution_count": null,
   "id": "9e582072",
   "metadata": {},
   "outputs": [],
   "source": []
  }
 ],
 "metadata": {
  "kernelspec": {
   "display_name": "Python 3 (ipykernel)",
   "language": "python",
   "name": "python3"
  },
  "language_info": {
   "codemirror_mode": {
    "name": "ipython",
    "version": 3
   },
   "file_extension": ".py",
   "mimetype": "text/x-python",
   "name": "python",
   "nbconvert_exporter": "python",
   "pygments_lexer": "ipython3",
   "version": "3.9.12"
  }
 },
 "nbformat": 4,
 "nbformat_minor": 5
}
